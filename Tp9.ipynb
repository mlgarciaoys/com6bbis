{
  "nbformat": 4,
  "nbformat_minor": 0,
  "metadata": {
    "colab": {
      "name": "Tp9.ipynb",
      "provenance": []
    },
    "kernelspec": {
      "name": "python3",
      "display_name": "Python 3"
    },
    "language_info": {
      "name": "python"
    }
  },
  "cells": [
    {
      "cell_type": "markdown",
      "metadata": {
        "id": "AfyLW3Jdy6or"
      },
      "source": [
        "Ejercicio 1: Crear una tabla “Productos” que contenga los datos que le permite a un bazar llevar el control de los productos que comercializa.\n"
      ]
    },
    {
      "cell_type": "code",
      "metadata": {
        "id": "ZUgwpxG9y4G-"
      },
      "source": [
        "import sqlite3 as sql\n",
        "\n",
        "class Conexion_BD():\n",
        "\n",
        "    def __init__(self,db):\n",
        "      self.conexion = sql.connect(db)\n",
        "      self.cursor = self.conexion.cursor()\n",
        "    \n",
        "    def consulta(self, consulta):\n",
        "      self.cursor.execute(consulta)\n",
        "\n",
        "    def commit(self):\n",
        "      self.conexion.commit()\n",
        "\n",
        "    def cerrar(self):\n",
        "      self.conexion.close()\n",
        "\n",
        "\n",
        "conexion = Conexion_BD(\"Productos_db\")\n",
        "conexion.consulta(\"CREATE TABLE Productos(id_producto INTEGER PRIMARY KEY AUTOINCREMENT, nombre_producto VARCHAR(250), cantidad_producto INTEGER, precio_producto FLOAT, categorida_producto VARCHAR(300) )\")\n",
        "conexion.commit()\n",
        "conexion.cerrar()\n",
        "\n",
        "    "
      ],
      "execution_count": 1,
      "outputs": []
    },
    {
      "cell_type": "markdown",
      "metadata": {
        "id": "YiB1QBSU1wUL"
      },
      "source": [
        "**Ejercicio 2:** Una vez creada la base de datos \"Productos_bd\" y la tabla \"Productos\" realice las siguientes actividades:<br/>\n",
        "* Insertar un producto<br/>\n",
        "* Hacer al menos una consulta de búsqueda. Ejemplo: \"ver todos los productos cargados\", \"ver los productos con stock 0\"<br/>\n",
        "* Actualizar un producto<br/>\n",
        "* Eliminar un producto\n"
      ]
    },
    {
      "cell_type": "code",
      "metadata": {
        "id": "CVKYKio-4YK_"
      },
      "source": [
        "conexion = Conexion_BD(\"Productos_db\")\n",
        "\n",
        "conexion.consulta(\"INSERT INTO Productos (nombre_producto, cantidad_producto, precio_producto, categorida_producto)  values ('Harina BlancaFlor 1kg',20, 150.98,'Harinas Blancas')\")\n",
        "conexion.commit()\n",
        "conexion.consulta(\"INSERT INTO Productos (nombre_producto, cantidad_producto, precio_producto, categorida_producto)  values ('Harina Florencia 1kg',20, 150.98,'Harinas Blancas')\")\n",
        "conexion.commit()\n",
        "conexion.consulta(\"INSERT INTO Productos (nombre_producto, cantidad_producto, precio_producto, categorida_producto)  values ('Harina Integral 1kg',0, 170.98,'Harinas ')\")\n",
        "conexion.commit()\n",
        "conexion.consulta(\"INSERT INTO Productos (nombre_producto, cantidad_producto, precio_producto, categorida_producto)  values ('Harina Almendras 1kg',10, 250.98,'Harinas ')\")\n",
        "conexion.commit()\n",
        "conexion.consulta(\"INSERT INTO Productos (nombre_producto, cantidad_producto, precio_producto, categorida_producto)  values ('Avena 1kg',2, 100.98,'Cereales')\")\n",
        "conexion.commit()\n",
        "conexion.consulta(\"INSERT INTO Productos (nombre_producto, cantidad_producto, precio_producto, categorida_producto)  values ('Garbanzos 1kg',0, 70.98,'Lengumbres')\")\n",
        "conexion.commit()\n"
      ],
      "execution_count": 4,
      "outputs": []
    },
    {
      "cell_type": "code",
      "metadata": {
        "colab": {
          "base_uri": "https://localhost:8080/"
        },
        "id": "ltOzuHLO19qB",
        "outputId": "b44050f0-0df4-4df8-dd5c-04a5f85e7dae"
      },
      "source": [
        "\n",
        "#Ver todos los productos cargados\n",
        "conexion.consulta(\"SELECT * FROM Productos\")\n",
        "listaproductos = conexion.cursor.fetchall()\n",
        "conexion.commit()\n",
        "\n",
        "for item in listaproductos:\n",
        "  print(f\"Id:{item[0]}  Nombre: {item[1]} Cantidad: {item[2]} Precio: {item[3]} Categoria: {item[4]}\")\n",
        "print(\"\\n\\n\")\n",
        "\n",
        "#Ver  los productos con stock 0\n",
        "conexion.consulta(\"SELECT * FROM Productos WHERE cantidad_producto = 0 ORDER BY nombre_producto ASC\")\n",
        "listaproductos = conexion.cursor.fetchall()\n",
        "conexion.commit()\n",
        "\n",
        "for item in listaproductos:\n",
        "  print(f\"Id:{item[0]}  Nombre: {item[1]} Cantidad: {item[2]} Precio: {item[3]} Categoria: {item[4]}\")\n",
        "\n",
        "print(\"\\n\\n\")\n",
        "#Actualizar producto de Garbanzos\n",
        "conexion.consulta(\"UPDATE Productos SET cantidad_producto = 30 WHERE id_producto = 6 \")\n",
        "conexion.commit()\n",
        "print(\"\\n\\n\")\n",
        "conexion.consulta(\"SELECT * FROM Productos WHERE cantidad_producto = 0 ORDER BY nombre_producto ASC\")\n",
        "listaproductos = conexion.cursor.fetchall()\n",
        "conexion.commit()\n",
        "\n",
        "for item in listaproductos:\n",
        "  print(f\"Id:{item[0]}  Nombre: {item[1]} Cantidad: {item[2]} Precio: {item[3]} Categoria: {item[4]}\")\n",
        "\n",
        "print(\"\\n\\n\")\n",
        "# Consultar datos del producto garbanzo\n",
        "conexion.consulta(\"SELECT * FROM Productos WHERE id_producto = 6\")\n",
        "listaproductos = conexion.cursor.fetchall()\n",
        "conexion.commit()\n",
        "\n",
        "for item in listaproductos:\n",
        "  print(f\"Id:{item[0]}  Nombre: {item[1]} Cantidad: {item[2]} Precio: {item[3]} Categoria: {item[4]}\")\n",
        "\n",
        "\n",
        "  print(\"\\n\\n\")\n",
        "# Eliminar el producto garbanzo\n",
        "conexion.consulta(\"DELETE FROM Productos WHERE id_producto = 6\")\n",
        "conexion.commit()\n",
        "\n",
        "conexion.cerrar()\n",
        "\n",
        "\n",
        "conexion = Conexion_BD(\"Productos_db\")\n",
        "#Ver todos los productos cargados\n",
        "conexion.consulta(\"SELECT * FROM Productos\")\n",
        "listaproductos = conexion.cursor.fetchall()\n",
        "conexion.commit()\n",
        "for item in listaproductos:\n",
        "  print(f\"Id:{item[0]}  Nombre: {item[1]} Cantidad: {item[2]} Precio: {item[3]} Categoria: {item[4]}\")\n",
        "conexion.cerrar()\n"
      ],
      "execution_count": 12,
      "outputs": [
        {
          "output_type": "stream",
          "name": "stdout",
          "text": [
            "Id:1  Nombre: Harina BlancaFlor 1kg Cantidad: 20 Precio: 150.98 Categoria: Harinas Blancas\n",
            "Id:2  Nombre: Harina Florencia 1kg Cantidad: 20 Precio: 150.98 Categoria: Harinas Blancas\n",
            "Id:3  Nombre: Harina Integral 1kg Cantidad: 0 Precio: 170.98 Categoria: Harinas \n",
            "Id:4  Nombre: Harina Almendras 1kg Cantidad: 10 Precio: 250.98 Categoria: Harinas \n",
            "Id:5  Nombre: Avena 1kg Cantidad: 2 Precio: 100.98 Categoria: Cereales\n",
            "\n",
            "\n",
            "\n",
            "Id:3  Nombre: Harina Integral 1kg Cantidad: 0 Precio: 170.98 Categoria: Harinas \n",
            "\n",
            "\n",
            "\n",
            "\n",
            "\n",
            "\n",
            "Id:3  Nombre: Harina Integral 1kg Cantidad: 0 Precio: 170.98 Categoria: Harinas \n",
            "\n",
            "\n",
            "\n",
            "Id:1  Nombre: Harina BlancaFlor 1kg Cantidad: 20 Precio: 150.98 Categoria: Harinas Blancas\n",
            "Id:2  Nombre: Harina Florencia 1kg Cantidad: 20 Precio: 150.98 Categoria: Harinas Blancas\n",
            "Id:3  Nombre: Harina Integral 1kg Cantidad: 0 Precio: 170.98 Categoria: Harinas \n",
            "Id:4  Nombre: Harina Almendras 1kg Cantidad: 10 Precio: 250.98 Categoria: Harinas \n",
            "Id:5  Nombre: Avena 1kg Cantidad: 2 Precio: 100.98 Categoria: Cereales\n"
          ]
        }
      ]
    },
    {
      "cell_type": "markdown",
      "metadata": {
        "id": "UZnjmL358NE_"
      },
      "source": [
        "**Ejercicio 3:** Para la misma base de datos de ejercicios anteriores, crear una tabla que se llame Detalle_Venta, que contenga los siguientes campos: id_producto, precio_producto, cantidad, subtotal y total, de forma que permita armar el detalle de una factura y mostrar en pantalla.\n",
        "* Crear la tabla Detalle_Venta.\n",
        "* Insertar datos simulados en la tabla Detalle_Venta.\n"
      ]
    },
    {
      "cell_type": "code",
      "metadata": {
        "id": "Z2-ZIWEF_Mr2"
      },
      "source": [
        "conexion = Conexion_BD(\"Productos_db\")\n",
        "conexion.cerrar()"
      ],
      "execution_count": 17,
      "outputs": []
    },
    {
      "cell_type": "code",
      "metadata": {
        "colab": {
          "base_uri": "https://localhost:8080/"
        },
        "id": "Byc_ss-48L-b",
        "outputId": "d26a515c-d87a-4424-d092-bef67a082eb7"
      },
      "source": [
        "conexion = Conexion_BD(\"Productos_db\")\n",
        "\n",
        "#conexion.consulta(\"CREATE TABLE Detalle_Venta(id_venta INTEGER PRIMARY KEY AUTOINCREMENT, id_producto integer, precio_producto FLOAT, cantidad_producto int, subtotal float, total float)\")\n",
        "#conexion.commit()\n",
        "\n",
        "#conexion.consulta(\"INSERT INTO Detalle_Venta (id_producto, precio_producto, cantidad_producto, subtotal, total) VALUES (1,150.98,10,1509.8,1509.8)\")\n",
        "#conexion.commit()\n",
        "\n",
        "conexion.consulta(\"SELECT * FROM Detalle_Venta\")\n",
        "listaventa = conexion.cursor.fetchall()\n",
        "conexion.commit()\n",
        "for item in listaventa:\n",
        "  print(f\"Id:{item[0]} IdProducto:{item[1]}  precio: {item[2]} cantidad: {item[3]} subtotal: {item[4]} total: {item[5]}\")\n",
        "\n",
        "\n",
        "conexion.consulta(\"SELECT Detalle_Venta.id_venta, Productos.id_producto, Productos.nombre_producto, Detalle_Venta.precio_producto, Detalle_Venta.cantidad_producto, subtotal, total FROM Detalle_Venta INNER JOIN Productos ON Detalle_Venta.id_producto = Productos.id_producto\")\n",
        "listaventa = conexion.cursor.fetchall()\n",
        "conexion.commit()\n",
        "for item in listaventa:\n",
        "  print(f\"Id:{item[0]} IdProducto:{item[1]} nombre:{item[2]} precio: {item[3]} cantidad: {item[4]} subtotal: {item[5]} total: {item[6]}\")\n",
        "conexion.cerrar()\n",
        "\n"
      ],
      "execution_count": 21,
      "outputs": [
        {
          "output_type": "stream",
          "name": "stdout",
          "text": [
            "Id:1 IdProducto:1  precio: 150.98 cantidad: 10 subtotal: 1509.8 total: 1509.8\n",
            "Id:1 IdProducto:1 nombre:Harina BlancaFlor 1kg precio: 150.98 cantidad: 10 subtotal: 1509.8 total: 1509.8\n"
          ]
        }
      ]
    },
    {
      "cell_type": "markdown",
      "metadata": {
        "id": "U3kZmOBsBEuy"
      },
      "source": [
        "**Ejercicio 4:** Crear un pequeño programa que te permita hacer una venta usando las tablas Productos y Detalle_Venta, considerar:\n",
        "* Stock distinto de 0 al hacer la venta.\n",
        "* Guardar en Detalle_Venta la venta realizada.\n"
      ]
    },
    {
      "cell_type": "code",
      "metadata": {
        "colab": {
          "base_uri": "https://localhost:8080/"
        },
        "id": "5VCyTTXzBP1Q",
        "outputId": "9d18631b-7171-483b-ec5e-f096fb3da8b6"
      },
      "source": [
        "conexion = Conexion_BD(\"Productos_db\")\n",
        "\n",
        "\n",
        "# Actualiza la cantidad del producto para poder realizar la venta\n",
        "conexion.consulta(\"UPDATE Productos SET cantidad_producto = 30 WHERE id_producto = 1 \")\n",
        "conexion.commit()\n",
        "print(\"\\n\\n\")\n",
        "\n",
        "\n",
        "#Trae una lista de todos los productos disponibles y se los muestra en pantalla al usuario - modificar la forma de mostrarlos\n",
        "conexion.consulta(\"SELECT id_producto, nombre_producto, precio_producto FROM Productos\")\n",
        "listaproductos = conexion.cursor.fetchall()\n",
        "conexion.commit()\n",
        "for item in listaproductos:\n",
        "  print(f\"Id:{item[0]}  Nombre: {item[1]} Precio: {item[2]}\")\n",
        "print(\"\\n\\n\")\n",
        "\n",
        "total =0\n",
        "subtotal =0\n",
        "#Solicita que ingrese el id del producto a comprar\n",
        "numP =input(\"Ingrese el numero de producto que desea comprar :\")\n",
        "\n",
        "#Verificamos que el producto exista en la tabla\n",
        "conexion.consulta(f\"SELECT * FROM Productos WHERE id_producto = {numP}\")\n",
        "producto = conexion.cursor.fetchall()\n",
        "if (producto == []):\n",
        "  raise Exception(\"El producto elegido no existe\")\n",
        "else:\n",
        "  #Solicita la cantidad de productos a adquirir\n",
        "  cantP =int(input(\"Ingrese la cantidad de productos que desea adquirir :\"))\n",
        "  cantDisponible = producto[0][2] # cantidad de productos en stock\n",
        "  precio = producto[0][3] \n",
        "  if (cantDisponible < 0):\n",
        "    print(\"No hay disponibilidad del producto \")\n",
        "  else: \n",
        "    if (cantP > cantDisponible):\n",
        "      print(f\"Solo tengo disponible {cantDisponible}\")\n",
        "      cantP = cantDisponible # actualizo la cantidad que me piden a lo que existe en stock\n",
        "    cantDisponible = cantDisponible - cantP  # restando de la cantidad disponible lo que estan comprando\n",
        "\n",
        "    #actualizo la tabla productos y modifico la cantidad actualizada despues de la venta\n",
        "    conexion.consulta(f\"UPDATE Productos SET cantidad_producto = {cantDisponible} WHERE id_producto = {numP} \")\n",
        "    conexion.commit()\n",
        "    subtotal = precio * cantP\n",
        "    total =  total + subtotal\n",
        "\n",
        "    #Insertamos los datos de la venta realizada\n",
        "    conexion.consulta(f\"INSERT INTO Detalle_Venta (id_producto, precio_producto, cantidad_producto, subtotal, total) VALUES ({numP},{precio},{cantP},{subtotal},{total})\")\n",
        "    conexion.commit()\n",
        "\n",
        "# Ver los datos de la venta realizada\n",
        "conexion.consulta(\"SELECT Detalle_Venta.id_venta, Productos.id_producto, Productos.nombre_producto, Detalle_Venta.precio_producto, Detalle_Venta.cantidad_producto, subtotal, total FROM Detalle_Venta INNER JOIN Productos ON Detalle_Venta.id_producto = Productos.id_producto\")\n",
        "listaventa = conexion.cursor.fetchall()\n",
        "conexion.commit()\n",
        "total =0\n",
        "for item in listaventa:\n",
        "   total = total + item[5]\n",
        "  print(f\"Id:{item[0]} IdProducto:{item[1]} nombre:{item[2]} precio: {item[3]} cantidad: {item[4]} subtotal: {item[5]} \")\n",
        "print(f\"Total :{total}} \")\n",
        "conexion.cerrar()\n"
      ],
      "execution_count": 27,
      "outputs": [
        {
          "output_type": "stream",
          "name": "stdout",
          "text": [
            "\n",
            "\n",
            "\n",
            "Id:1  Nombre: Harina BlancaFlor 1kg Precio: 150.98\n",
            "Id:2  Nombre: Harina Florencia 1kg Precio: 150.98\n",
            "Id:3  Nombre: Harina Integral 1kg Precio: 170.98\n",
            "Id:4  Nombre: Harina Almendras 1kg Precio: 250.98\n",
            "Id:5  Nombre: Avena 1kg Precio: 100.98\n",
            "\n",
            "\n",
            "\n",
            "Ingrese el numero de producto que desea comprar :1\n",
            "Ingrese la cantidad de productos que desea adquirir :40\n",
            "Solo tengo disponible 30\n",
            "Id:1 IdProducto:1 nombre:Harina BlancaFlor 1kg precio: 150.98 cantidad: 10 subtotal: 1509.8 total: 1509.8\n",
            "Id:2 IdProducto:1 nombre:Harina BlancaFlor 1kg precio: 150.98 cantidad: 30 subtotal: 4529.4 total: 4529.4\n"
          ]
        }
      ]
    }
  ]
}